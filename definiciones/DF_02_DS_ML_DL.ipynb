{
 "cells": [
  {
   "cell_type": "code",
   "execution_count": 1,
   "metadata": {
    "tags": [
     "remove-input"
    ]
   },
   "outputs": [
    {
     "data": {
      "text/html": [
       "\n",
       "<div style=\"display: flex; justify-content: space-between;\">\n",
       "    <div style=\"text-align: center; flex-grow: 1;\">28-10-2023</div>\n",
       "    <div><em>DEFINICIONES</em></div>\n",
       "</div>\n",
       "<hr>\n"
      ],
      "text/plain": [
       "<IPython.core.display.HTML object>"
      ]
     },
     "metadata": {},
     "output_type": "display_data"
    }
   ],
   "source": [
    "from datetime import datetime\n",
    "from IPython.display import display, HTML\n",
    "\n",
    "current_date = datetime.now().strftime('%d-%m-%Y')\n",
    "html_content = f\"\"\"\n",
    "<div style=\"display: flex; justify-content: space-between;\">\n",
    "    <div style=\"text-align: center; flex-grow: 1;\">{current_date}</div>\n",
    "    <div><em>DEFINICIONES</em></div>\n",
    "</div>\n",
    "<hr>\n",
    "\"\"\"\n",
    "\n",
    "display(HTML(html_content))"
   ]
  },
  {
   "cell_type": "markdown",
   "metadata": {},
   "source": [
    "# Ciencia de datos\n",
    "\n",
    "La _**ciencia de datos**_ _(data science)_ es la práctica de usar un conjunto de técnicas analíticas y metodologías para hacer inferencias y comunicar predicciones valiosas y justificadas a partir de datos en bruto.\n",
    "\n",
    "La clave aquí es la palabra _**predicción**_, la habilidad de predecir es la que separa al científico de datos del analista de datos. Mientras que el analista de datos analiza el pasado, el científico de datos predice el futuro.\n",
    "\n",
    "Pero un científico de datos no usa ninguna bola de cristal para hacer esas predicciones, sino que utiliza las matemáticas y la programación y su conocimiento sobre el dominio.\n",
    "\n",
    "<center><img src=\"img/df_02_ds_1.png\" width=\"300\"></center>\n",
    "<center><caption><em>Figura 1. Ciencia de datos</em></caption></center>\n",
    "<br>\n",
    "\n",
    "Así, vamos a ver que la ciencia de datos es interdisciplinar, combina el uso de la estadística, las matemáticas y la programación para permitirnos responder preguntas muy interesantes haciendo uso de los datos en bruto.\n",
    "\n",
    "Esta disciplina requiere tanto el uso de una batería de herramientas tecnológicas como de pensamiento crítico y conocimiento del dominio para manejar esos datos."
   ]
  },
  {
   "cell_type": "markdown",
   "metadata": {},
   "source": [
    "# Inteligencia artificial\n",
    "\n",
    "La forma más sencilla de definir la _**inteligencia artificial**_ _(artificial intelligence)_ es como la ciencia de hacer las cosas inteligentes, es decir, consiste en automatizar tareas que normalmente se atribuyen al pensamiento y raciocinio humano, como la resolución de problemas, la toma de decisiones y el aprendizaje.\n",
    "\n",
    "Su objetivo es crear sistemas capaces de realizar tareas que, cuando son realizadas por humanos, requieren inteligencia.\n",
    "\n",
    "La IA es todo un campo del conocimiento, como la química o la biología, y vive en la intersección de varias disciplinas clásicas incluyendo filosofía, neurociencia, lingüística, economía, psicología, ciencias de la computación, ingeniería...\n",
    "\n",
    "<center><img src=\"img/ia_areas.png\" width=\"350\"></center>\n",
    "<center><caption><em>Figura 2. Campo de la inteligencia artificial</em></caption></center>\n",
    "<br>\n",
    "\n",
    "Una IA no es más que alguna forma de inteligencia humana mostrada por máquinas. Aquí la palabra máquina no se refiere solamente a un robot, sino que también puede tratarse de un programa de software, por ejemplo un bot.\n",
    "\n",
    "El término \"Inteligencia Artificial\" es bastante antiguo, fue acuñado por primera vez por John McCarthy para la famosa Conferencia de Dartmouth de 1956, la cual se considera el evento fundacional de la IA como materia académica. El taller de Dartmouth reunió a expertos interesados en redes neuronales y la automatización de la inteligencia humana, y su objetivo era explorar formas de hacer una máquina que pudiera imitar la inteligencia humana. La propuesta para el taller establecía que \"cada aspecto del aprendizaje o cualquier otra característica de la inteligencia puede, en principio, describirse tan precisamente que se puede hacer una máquina para simularlo\".\n",
    "\n",
    "<center><img src=\"img/john-mccarthy.png\" width=\"200\"></center>\n",
    "<center><caption><em>Figura 3. John McCarthy</em></caption></center>\n",
    "<br>\n",
    "\n",
    "McCarthy (matemático profesor en la Universidad de Stanford y Premio Turing en 1971), junto con Marvin Minsky, Nathaniel Rochester y Claude Shannon, organizó el taller e invitó a una gama de participantes para discutir estos temas. Aunque el taller no produjo inmediatamente los resultados revolucionarios que sus organizadores habían esperado, sí sirvió para aglutinar a una comunidad de investigadores y establecer la agenda para décadas de investigación en IA.\n",
    "\n",
    "Así, aparece el término \"Inteligencia Artificial\", proporcionando un nombre para un nuevo campo de investigación enfocado en el desarrollo de máquinas inteligentes capaces de realizar tareas que normalmente requieren inteligencia humana.\n",
    "\n",
    "Podemos definir la _**inteligencia**_ como la habilidad de un sistema de calcular, razonar, percibir relaciones y analogías, aprender de la experiencia, guardar y recuperar información de la memoria, resolver problemas, entender ideas complejas, usar el lenguaje natural de manera fluida, clasificar, generalizar y adaptarse a nuevas situaciones.\n",
    "\n",
    "La inteligencia es algo intangible y está compuesta por:\n",
    "\n",
    "- _Razonamiento._ Es el conjunto de procesos que nos permiten realizar juicios, tomar decisiones y hacer predicciones. Hay dos tipos de razonamiento: inductivo y deductivo.\n",
    "- _Resolución de problemas._ Es el proceso en el cual uno percibe y trata de llegar a una solución deseada desde una situación actual tomando cierto camino, el cual está bloqueado por obstáculos conocidos o desconocidos. También incluye la toma de decisiones, la cual es el proceso de seleccionar la alternativa más adecuada de entre varias para alcanzar la meta deseada.\n",
    "- _Percepción._ Es el proceso de adquirir, interpretar, seleccionar y organizar información sensorial. La percepción asume sentir. En los humanos, la percepción es ayudada por los órganos de los sentidos. En el dominio de la IA el mecanismo de percepción reúne los datos adquiridos por los sensores de una manera significativa.\n",
    "\n",
    "Definimos _**modelado cognitivo**_ como el campo de estudio dentro de las ciencias de la computación que se encarga del estudio y simulación de procesos de pensamiento del ser humano."
   ]
  },
  {
   "cell_type": "markdown",
   "metadata": {},
   "source": [
    "## Tipos de IA\n",
    "\n",
    "Se diferencian dos tipos de IA:\n",
    "\n",
    "* _**IA débil**_ (ANI o _narrow_)\n",
    "* _**IA fuerte**_ (AGI o _general_)\n",
    "\n",
    "<center><img src=\"img/narrow_vs_agi_ai.jpg\" width=\"300\"></center>\n",
    "<center><caption><em>Figura 4. Tipos de inteligencia artificial</em></caption></center>\n",
    "<br>\n",
    "\n",
    "Todos los sistemas de IA implementados hoy en día son una forma de IA débil, es decir, pueden hacer una (o unas pocas) tareas bien definidas igual o mejor que un ser humano, pero aún estamos muy lejos de los sistemas de IA fuerte o general que nos muestran en las películas.\n",
    "\n",
    "Ejemplos de IA débil son los sistemas de recomendación, el reconocimiento de voz, el reconocimiento de imágenes, la traducción automática, los chatbots, etc.\n",
    "\n",
    "La mayoría de los avances tecnológicos recientes se han producido en esta área de la IA débil.\n",
    "\n",
    "La IA general sería aquella IA multipropósito que puede realizar cualquier tarea intelectual que un ser humano puede. Es decir, una IA que puede pensar y razonar como un ser humano. Este tipo de IA no existe hoy en día, y hay debate de cuándo se conseguirá, si llegará a existir algún día o incluso si debería existir.\n",
    "\n",
    "Es el tipo de IA que vemos en películas como HAL en _2001: Odisea en el espacio_ o _Skynet en Terminator_.\n",
    "\n",
    "Una IA débil puede parecer inteligente, pero vamos a ver que por lo general no es más que una serie de cálculos matemáticos y estadísticos sofisticados, y ni mucho menos tiene conciencia, siente, ni es consciente de su propia existencia como algunas personas piensan.\n",
    "\n",
    "A día de hoy, siempre vamos a necesitar código escrito por humanos para crear un sistema capaz de aprender cosas."
   ]
  },
  {
   "cell_type": "markdown",
   "metadata": {},
   "source": [
    "# Programación tradicional vs aprendizaje automático\n",
    "\n",
    "Imaginemos que queremos crear un programa que detecte si un email es spam o no usando el paradigma tradicional. Para ello, lo primero que tenemos que hacer es definir las reglas que nos permitan distinguir un email de spam de uno que no lo es. Por ejemplo, podemos decir que si el email contiene la palabra \"ganador\" es spam, o si contiene la palabra \"premio\" también es spam. Y así con todas las palabras que se nos ocurran.\n",
    "\n",
    "Las entradas aquí serían el texto del email y el asunto y la salida sería si el email es spam o no, mientras que el programa sería ese conjunto de reglas que hemos definido.\n",
    "\n",
    "<center><img src=\"img/trad_prog_paradigm.png\" width=\"600\"></center>\n",
    "<center><caption><em>Figura 5. Programación tradicional</em></caption></center>\n",
    "<br>\n",
    "\n",
    "Como os podéis imaginar este programa sería muy tedioso de hacer, primero porque tendríamos que revisar miles de ejemplos de emails para ver qué palabras son las que más se repiten en los emails de spam y luego porque tendríamos que escribir todas las reglas a mano.\n",
    "\n",
    "Es en este tipo de casos donde el aprendizaje automático nos puede ayudar. En el ML, en lugar de definir nosotros las reglas, lo que hacemos es darle al ordenador un conjunto de ejemplos de emails y decirle cuáles son spam y cuáles no, es decir, le damos como entrada tanto los emails como las etiquetas que les corresponden a cada uno y que los identifican como spam o no.\n",
    "\n",
    "A partir de ahí, el ordenador es el que se encarga de encontrar las reglas que mejor se ajustan a los datos, es decir, genera el programa por nosotros pues es capaz de aprender estas reglas a partir de los datos que le pasamos. Este programa que se ha generado después del aprendizaje es lo que llamamos modelo.\n",
    "\n",
    "<center><img src=\"img/ml_paradigm.png\" width=\"600\"></center>\n",
    "<center><caption><em>Figura 6. Aprendizaje automático</em></caption></center>\n",
    "<br>\n",
    "\n",
    "Ahora podemos usar este modelo en lugar del programa desarrollado usando el paradigma tradicional para predecir si un email es spam o no. Para ello, le damos como entrada el texto del email y el asunto y el modelo nos devuelve si es spam o no.\n",
    "\n",
    "Así, resumiendo, mientras en la programación tradicional se escribe un programa con una serie de reglas específicas a seguir, en aprendizaje automático se escribe un programa capaz de aprender a través de los datos"
   ]
  },
  {
   "cell_type": "markdown",
   "metadata": {},
   "source": [
    "# Aprendizaje automático\n",
    "\n",
    "El _**aprendizaje automático**_ _(machine learning)_ es un subconjunto de la inteligencia artificial (IA), más concretamente una forma de IA débil que permite que las máquinas aprendan a partir de una serie de muestras.\n",
    "\n",
    "Son un conjunto de algoritmos capaces de aproximar funciones complejas o descubrir patrones en los datos en bruto para luego hacer predicciones a partir ellos. De este modo, el aprendizaje automático implica enseñar a una máquina a reconocer patrones a través de muestras de datos, en lugar de programarla de forma explícita a través de una serie de reglas específicas.\n",
    "\n",
    "Estos algoritmos pueden ser reutilizados para reconocer nuevos patrones usando otros datos con el mismo código, lo que es muy poderoso.\n",
    "\n",
    "En 1959, Arthur Samuel, ingeniero y profesor en la Universidad de Stanford, pionero en el campo de la IA y los juegos por ordenador, en concreto el juego de las damas, definió el aprendizaje automático como el campo de estudio que permite a los ordenadores la habilidad de aprender sin ser programados explícitamente para ello.\n",
    "\n",
    "La potencia del aprendizaje automático es que los algoritmos aprenden por sí solos patrones de los datos que les pasamos para ser entrenados. Por eso, aunque hoy en día un sistema de aprendizaje automático típicamente solo hace una cosa bien, como por ejemplo reconocer cierta clase de objetos, ese mismo algoritmo de aprendizaje automático puede ser reutilizado para aprender sobre nuevos objetos (pasándole suficientes datos de muestra), sin tener que reescribir el código.\n",
    "\n",
    "Lo interesante de los sistemas o algoritmos de ML es que pueden ser reutilizados para reconocer otros patrones cuando son entrenados con otros conjuntos de datos sin tener que reescribir el código, a diferencia de lo que pasa con los sistemas basado en reglas tradicionales, que si cambia la entrada el programa es tan rígido que ya no nos sirve y hay que reescribirlo o por lo menos modificarlo. Es el mismo algoritmo, pero recibe diferentes datos de entrenamiento, por lo que genera, por ejemplo, una lógica de clasificación diferente. Esto es lo que hace que el ML sea tan poderoso.\n",
    "\n",
    "Antiguamente los programadores tenían que reescribir el código para cada nuevo objeto que se quería reconocer, lo cual no era escalable. Ahora, un mismo sistema puede aprender a reconocer varios objetos distintos con simplemente mostrarle suficientes ejemplos.\n",
    "\n",
    "Así, mientras en la programación tradicional se escribe un programa con una serie de reglas específicas a seguir, en aprendizaje automático se escribe un programa capaz de aprender a través de los datos.\n",
    "\n",
    "<center><img src=\"img/df_02_ml_1.png\" width=\"500\"></center>\n",
    "<center><caption><em>Figura 7. Programación tradicional vs aprendizaje automático</em></caption></center>\n",
    "<br>\n",
    "\n",
    "Un modelo es solo un código que una máquina usa para convertir entradas en salidas, y puede ser creado a mano por un programador o aprendido de los datos por un algoritmo. El aprendizaje automático es un paradigma de programación completamente diferente, en el que en lugar de dar instrucciones explícitas, programamos con muestras y el algoritmo de aprendizaje automático encuentra patrones en los datos y los convierte en esas instrucciones que no podríamos escribir nosotros mismos.\n",
    "\n",
    "Así, como hemos dicho, el aprendizaje automático implica enseñar a una máquina a reconocer patrones a través de muestras de datos, en lugar de programarla de forma explícita a través de una serie de reglas específicas.\n",
    "\n",
    "Esto permite expresar nuestras instrucciones a las computadoras de una manera que antes no podíamos. De este modo la IA y el aprendizaje automático tratan de automatizar lo inefable (aquello que no se puede expresar con palabras) y nos permite explicarle a una máquina lo que queremos que haga usando ejemplos en lugar de instrucciones. Esto desbloquea una clase de tareas con las que no podíamos hacer que las computadoras nos ayudaran en el pasado porque no podíamos expresar las instrucciones. Ahora todas estas tareas se vuelven posibles de modo que el aprendizaje automático representa un salto fundamental en el progreso humano.\n",
    "\n",
    "Imaginemos un estudiante en una clase, el cual hace un test y mira las respuestas para ver qué tal lo ha hecho. Después de puntuar su test lo vuelve a hacer y comprueba las respuestas de nuevo para ver si lo ha hecho un poco mejor. Tras miles de iteraciones, la puntuación del estudiante será muy alta. En la vida real, ningún estudiante humano aprendería de esta manera, pero las máquinas así es como lo hacen.\n",
    "\n",
    "Aprender significa adquirir conocimientos o habilidades a través del estudio o la experiencia. Basado en esto, podemos definir el aprendizaje automático como el campo de las ciencias de la computación que proporciona a las máquinas la habilidad de aprender de los datos y mejorar a partir de la experiencia sin la necesidad de ser programado expresamente.\n",
    "\n",
    "Debemos tener cuidado de no confundir el aprendizaje automático con la automatización, ya que esta última suele estar basada en reglas predeterminadas en el código que siempre actúan de la misma manera y no permite aprender de los datos. Lo que sí que es cierto es que puede ayudar a automatizar ciertos procesos.\n",
    "\n",
    "Otro aspecto a tener en cuenta es que el aprendizaje automático carece de poder de razonamiento, por lo que no es bueno a la hora de generalizar el conocimiento. Así, si un modelo es entrenado para resolver una tarea, por ejemplo identificar gatos en imágenes, deberá ser entrenado de nuevo para, por ejemplo, reconocer personas.\n",
    "\n",
    "<center><img src=\"img/df_02_ds_2.jpg\" width=\"400\"></center>\n",
    "<center><caption><em>Figura 8. Subcampos de la inteligencia artificial</em></caption></center>\n",
    "<br>\n",
    "\n",
    "Cuidado, si observamos el gráfico, la IA no tiene por qué incluir aprendizaje automático, pero el aprendizaje automático sí que es una forma de IA. Así, como hemos visto, podemos desarrollar un sistema inteligente de detección de spam usando el paradigma tradicional."
   ]
  },
  {
   "cell_type": "markdown",
   "metadata": {},
   "source": [
    "## Componentes del aprendizaje automático\n",
    "\n",
    "Para enseñar a las máquinas necesitamos 3 elementos:\n",
    "\n",
    "1. _**Datos**_. Cuanto más diversos sean los datos mejor serán los resultados. Hay dos formas de recolectar los datos: manual y automática. Los datos recolectados manualmente tienen muchos menos errores pero se tarda más tiempo en obtenerlos, lo que los hace más caros.\n",
    "2. _**Características**_. También conocidas como parámetros, atributos o variables, son los factores en los que el sistema de aprendizaje automático se tiene que fijar. Cuando los datos están almacenados en tablas es sencillo, los atributos son las columnas.\n",
    "3. _**Algoritmos**_. Cada problema puede resolverse de diferentes maneras y el método elegido afecta a la precisión, el rendimiento y el tamaño del modelo final. Pero si los datos son malos ni el mejor algoritmo puede ayudar.\n",
    "\n",
    "<center><img src=\"img/df_02_ml_2.jpg\" width=\"400\"></center>\n",
    "<center><caption><em>Figura 9. Componentes del aprendizaje automático</em></caption></center>\n",
    "<br>\n",
    "\n",
    "La elección del algoritmo depende principalmente de 3 factores:\n",
    "\n",
    "* La calidad de los datos de entrada. Ningún dataset es perfecto, en la vida real están plagados de problemas como ruido, datos que faltan, datos atípicos, ausencia de datos suficientes para entrenar... lo que va a condicionar el algoritmo que podemos usar.\n",
    "* El tipo de salida que se necesita, la cual está directamente relacionado con la clase de preguntas de negocio que necesitamos responder.\n",
    "* Las limitaciones del negocio. Estas vienen en forma de costes, tiempo para obtener un rendimiento (_time-to-market_), consumo de recursos de los dispositivos, infraestructura disponible, nivel de precisión requerido, necesidad de interpretabilidad..."
   ]
  },
  {
   "cell_type": "markdown",
   "metadata": {},
   "source": [
    "### Modelos, características y etiquetas\n",
    "\n",
    "Un _**modelo**_ es una descripción matemática o computacional específica que expresa la relación entre un conjunto de variables de entrada y una o más variables de salida que se están estudiando o prediciendo.\n",
    "\n",
    "En términos estadísticos, las variables de entrada se denominan _**variables independientes**_ y las variables de salida se denominan _**variables dependientes**_.\n",
    "\n",
    "En aprendizaje automático usamos el término _**características**_ para referirnos a la entrada o variables independientes, y valor objetivo o _**etiqueta**_ objetivo para referirnos a la salida o variable dependiente.\n",
    "\n",
    "Los modelos también se pueden usar para comprender y explorar la estructura de un determinado conjunto de datos, como veremos en el aprendizaje no supervisado.\n",
    "\n",
    "Mientras que en el caso de los métodos de aprendizaje supervisado, nuestro objetivo es desarrollar modelos predictivos que puedan predecir con precisión la variable de salida. En otras palabras, el valor objetivo o la etiqueta de datos de entrada no vistos anteriormente.\n",
    "\n",
    "Nuestro principal objetivo en el aprendizaje automático es estimar correctamente la distribución y probabilidad en el conjunto de datos de entrenamiento para que podamos tener un modelo generalizado que pueda predecir la distribución y probabilidad del conjunto de datos de prueba."
   ]
  },
  {
   "cell_type": "markdown",
   "metadata": {},
   "source": [
    "# Aprendizaje profundo\n",
    "\n",
    "Por último, el _**aprendizaje profundo**_ _(deep learning)_ no es más que una técnica de aprendizaje automático que hace uso de un tipo especial de algoritmos organizados en capas conocido como _**redes neuronales**_ y, en concreto, aquellas con muchas capas.\n",
    "\n",
    "Mientras que los métodos de ML más clásicos son muy buenos para resolver problemas con datos estructurados, es decir, datos de tipo tabular, el aprendizaje profundo es especialmente bueno para resolver problemas con datos no estructurados, como imágenes, texto o audio, donde los algoritmos de ML clásicos no consiguen tan buenos resultados.\n",
    "\n",
    "<center><img src=\"img/dnn.png\" width=\"600\"></center>\n",
    "<center><caption><em>Figura 10. Red neuronal profunda</em></caption></center>\n",
    "<br>"
   ]
  },
  {
   "cell_type": "markdown",
   "metadata": {},
   "source": [
    "# Citas curiosas\n",
    "\n",
    "A continuación, recopilo algunas de las citas más famosas relacionadas con la ciencia de datos:\n",
    "\n",
    "> _\"If you torture the data long enough, it will confess.\"_ – Ronald H. Coase\n",
    "\n",
    "> _\"Data is not information, Information is not knowledge, Knowledge is not understanding, Understanding is not wisdom.\"_ – Clifford Stoll\n",
    "\n",
    "> _\"If we have data, let's look at data. If all we have are opinions, let's go with mine.\"_ – James Love Barksdale\n",
    "\n",
    "> _\"You should know a word by the company it keeps\"_ – John Rupert Firth\n",
    "\n",
    "> _\"In God we trust. All others must bring data.\"_ – W. Edwards Deming\n",
    "\n",
    "> _\"We started with open source 'code' contribution. Now we are at a phase where we do open source 'model' contribution.\"_ – Unknown\n",
    "\n",
    "> _\"An expert is a person who has made all the mistakes that can be made in a very narrow field.\" - Niels Bohr, Quantum Physicist"
   ]
  },
  {
   "cell_type": "markdown",
   "metadata": {},
   "source": [
    "# Fuentes\n",
    "\n",
    "- [_Machine Learning for Everyone_](https://vas3k.com/blog/machine_learning/)\n",
    "- [_Jason's Machine Learning 101_](https://docs.google.com/presentation/d/1kSuQyW5DTnkVaZEjGYCkfOxvzCqGEFzWBy4e9Uedd9k/edit#slide=id.g168a3288f7_0_58)\n",
    "- [_Machine Learning - Zeiss_](https://blogs.zeiss.com/digital/the-relation-between-computer-vision-and-machine-learning/machine-learning/)\n",
    "- [_What's the difference between data science, machine learning, and artificial intelligence?_](http://varianceexplained.org/r/ds-ml-ai/)\n",
    "- [_Traditional Programming vs Machine Learning_](https://sravya-tech-usage.medium.com/traditional-programming-vs-machine-learning-e9bbed5e491c)"
   ]
  }
 ],
 "metadata": {
  "kernelspec": {
   "display_name": "ds_env",
   "language": "python",
   "name": "python3"
  },
  "language_info": {
   "codemirror_mode": {
    "name": "ipython",
    "version": 3
   },
   "file_extension": ".py",
   "mimetype": "text/x-python",
   "name": "python",
   "nbconvert_exporter": "python",
   "pygments_lexer": "ipython3",
   "version": "3.10.9"
  },
  "orig_nbformat": 4
 },
 "nbformat": 4,
 "nbformat_minor": 2
}
