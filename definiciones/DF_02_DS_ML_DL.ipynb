{
 "cells": [
  {
   "cell_type": "code",
   "execution_count": 3,
   "metadata": {
    "tags": [
     "remove-input"
    ]
   },
   "outputs": [
    {
     "data": {
      "text/html": [
       "\n",
       "<div style=\"display: flex; justify-content: space-between;\">\n",
       "    <div style=\"text-align: center; flex-grow: 1;\">23-08-2023</div>\n",
       "    <div><em>DEFINICIONES</em></div>\n",
       "</div>\n",
       "<hr>\n"
      ],
      "text/plain": [
       "<IPython.core.display.HTML object>"
      ]
     },
     "metadata": {},
     "output_type": "display_data"
    }
   ],
   "source": [
    "from datetime import datetime\n",
    "from IPython.display import display, HTML\n",
    "\n",
    "current_date = datetime.now().strftime('%d-%m-%Y')\n",
    "html_content = f\"\"\"\n",
    "<div style=\"display: flex; justify-content: space-between;\">\n",
    "    <div style=\"text-align: center; flex-grow: 1;\">{current_date}</div>\n",
    "    <div><em>DEFINICIONES</em></div>\n",
    "</div>\n",
    "<hr>\n",
    "\"\"\"\n",
    "\n",
    "display(HTML(html_content))"
   ]
  },
  {
   "cell_type": "markdown",
   "metadata": {},
   "source": [
    "# Ciencia de datos\n",
    "\n",
    "La _**ciencia de datos**_ _(data science)_ es la práctica de usar un conjunto de técnicas analíticas y metodologías para hacer inferencias y comunicar predicciones valiosas y justificadas a partir de datos en bruto.\n",
    "\n",
    "La clave aquí es la palabra _**predicción**_, la habilidad de predecir es la que separa al científico de datos del analista de datos. Mientras que el analista de datos analiza el pasado, el científico de datos predice el futuro.\n",
    "\n",
    "Pero un científico de datos no usa ninguna bola de cristal para hacer esas predicciones, sino que utiliza las matemáticas y la programación y su conocimiento sobre el dominio.\n",
    "\n",
    "<center><img src=\"img/df_02_ds_1.png\" width=\"400\"></center>\n",
    "<center><caption><em>Figura 1. Ciencia de datos</em></caption></center>\n",
    "<br>\n",
    "\n",
    "Así, vamos a ver que la ciencia de datos es interdisciplinar, combina el uso de la estadística, las matemáticas y la programación para permitirnos responder preguntas muy interesantes haciendo uso de los datos en bruto.\n",
    "\n",
    "Esta disciplina requiere tanto el uso de una batería de herramientas tecnológicas como de pensamiento crítico y conocimiento del dominio para manejar esos datos."
   ]
  },
  {
   "cell_type": "markdown",
   "metadata": {},
   "source": [
    "# Inteligencia artificial\n",
    "\n",
    "La forma más sencilla de definir la _**inteligencia artificial**_ _(artificial intelligence)_ es como la ciencia de hacer las cosas inteligentes, es decir, consiste en automatizar tareas que normalmente se atribuyen al pensamiento y raciocinio humano, como la resolución de problemas, la toma de decisiones y el aprendizaje.\n",
    "\n",
    "La IA vive en la intersección de varias disciplinas clásicas, incluyendo filosofía, neurociencia, lingüística, economía, psicología, ciencias de la computación, ingeniería... Es el nombre de todo un campo del conocimiento, como la química o la biología.\n",
    "\n",
    "Una IA no es más que alguna forma de inteligencia humana mostrada por máquinas. Aquí la palabra máquina no se refiere solamente a un robot, sino que también puede tratarse de un programa de software.\n",
    "\n",
    "Podemos definir la _**inteligencia**_ como la habilidad de un sistema de calcular, razonar, percibir relaciones y analogías, aprender de la experiencia, guardar y recuperar información de la memoria, resolver problemas, entender ideas complejas, usar el lenguaje natural de manera fluida, clasificar, generalizar y adaptarse a nuevas situaciones.\n",
    "\n",
    "La inteligencia es algo intangible y está compuesta por:\n",
    "\n",
    "- _Razonamiento._ Es el conjunto de procesos que nos permiten realizar juicios, tomar decisiones y hacer predicciones. Hay dos tipos de razonamiento: inductivo y deductivo.\n",
    "- _Resolución de problemas._ Es el proceso en el cual uno percibe y trata de llegar a una solución deseada desde una situación actual tomando cierto camino, el cual está bloqueado por obstáculos conocidos o desconocidos. También incluye la toma de decisiones, la cual es el proceso de seleccionar la alternativa más adecuada de entre varias para alcanzar la meta deseada.\n",
    "- _Percepción._ Es el proceso de adquirir, interpretar, seleccionar y organizar información sensorial. La percepción asume sentir. En los humanos, la percepción es ayudada por los órganos de los sentidos. En el dominio de la IA el mecanismo de percepción reúne los datos adquiridos por los sensores de una manera significativa.\n",
    "\n",
    "Todos los sistemas de IA implementados hoy en día son una forma de IA débil, es decir, pueden hacer una (o unas pocas) tareas bien definidas igual o mejor que un ser humano, pero aún estamos muy lejos de los sistemas de IA fuerte o general que nos muestran en las películas.\n",
    "\n",
    "A día de hoy, siempre vamos a necesitar código escrito por humanos para crear un sistema capaz de aprender cosas. Una IA débil puede parecer inteligente, pero vamos a ver que por lo general no es más que una serie de cálculos matemáticos y estadísticos sofisticados, y ni mucho menos tiene conciencia, siente, ni es consciente de su propia existencia como algunas personas piensan.\n",
    "\n",
    "Una IA para considerarse como tal debería:\n",
    "\n",
    "- Aprender a través de los datos y hacer predicciones sobre ellos.\n",
    "- Servir para automatizar procesos. Las máquinas pueden hacer tareas repetitivas muy deprisa, con mucha precisión y sin cansarse.\n",
    "- Enseñarse a sí misma. Es necesario que un sistema pueda enseñarse a sí mismo porque los datos mismos cambian y el conocimiento derivado de esos datos debe ser actualizado constantemente.\n",
    "- Responder en tiempo real.\n",
    "\n",
    "Definimos _**modelado cognitivo**_ como el campo de estudio dentro de las ciencias de la computación que se encarga del estudio y simulación de procesos de pensamiento del ser humano."
   ]
  },
  {
   "cell_type": "markdown",
   "metadata": {},
   "source": [
    "# Aprendizaje automático\n",
    "\n",
    "El _**aprendizaje automático**_ _(machine learning)_ es un subconjunto de la inteligencia artificial (IA), más concretamente una forma de IA débil que permite que las máquinas aprendan a partir de datos sin procesar.\n",
    "\n",
    "Son un conjunto de algoritmos capaces de aproximar funciones complejas o descubrir patrones en los datos en bruto para luego hacer predicciones a partir ellos. De este modo, el aprendizaje automático implica enseñar a una máquina a reconocer patrones a través de muestras de datos, en lugar de programarla de forma explícita a través de una serie de reglas específicas.\n",
    "\n",
    "Estos algoritmos pueden ser reutilizados para reconocer nuevos patrones usando otros datos con el mismo código, lo que es muy poderoso.\n",
    "\n",
    "Un sistema de aprendizaje automático es inteligente porque:\n",
    "\n",
    "1. Usa ciertos datos para ser entrenado.\n",
    "2. Aprende patrones de esos datos.\n",
    "3. Clasifica correctamente nuevos datos que no había visto hasta entonces basándose en el conocimiento adquirido en el paso 2.\n",
    "\n",
    "La potencia del aprendizaje automático es que los algoritmos aprenden por sí solos de los datos que les pasamos. Por eso, aunque hoy en día un sistema de aprendizaje automático típicamente solo hace una cosa bien, como por ejemplo reconocer cierta clase de objetos, ese mismo algoritmo de aprendizaje automático puede ser reutilizado para aprender sobre nuevos objetos (pasándole suficientes datos de muestra), sin tener que reescribir el código.\n",
    "\n",
    "Antiguamente los programadores tenían que reescribir el código para cada nuevo objeto que se quería reconocer, lo cual no era escalable. Ahora, un mismo sistema puede aprender a reconocer varios objetos distintos con simplemente mostrarle suficientes ejemplos.\n",
    "\n",
    "Así, mientras en la programación tradicional se escribe un programa con una serie de reglas específicas a seguir, en aprendizaje automático se escribe un programa capaz de aprender a través de los datos.\n",
    "\n",
    "Lo interesante de los sistemas o algoritmos de aprendizaje es que pueden ser reutilizados para reconocer otros patrones cuando son entrenados con otros conjuntos de datos sin tener que reescribir el código, a diferencia de lo que pasa con los sistemas basado en reglas tradicionales que si cambian la entrada el programa es tan rígido que ya no nos sirve y hay que reescribirlo.\n",
    "\n",
    "<center><img src=\"img/df_02_ml_1.png\" width=\"600\"></center>\n",
    "<center><caption><em>Figura 2. Programación tradicional vs aprendizaje automático</em></caption></center>\n",
    "<br>\n",
    "\n",
    "Un modelo es solo un código que una máquina usa para convertir entradas en salidas, y puede ser creado a mano por un programador o aprendido de los datos por un algoritmo. El aprendizaje automático es un paradigma de programación completamente diferente, en el que en lugar de dar instrucciones explícitas, programamos con muestras y el algoritmo de aprendizaje automático encuentra patrones en los datos y los convierte en esas instrucciones que no podríamos escribir nosotros mismos.\n",
    "\n",
    "Esto permite expresar nuestras instrucciones a las computadoras de una manera que antes no podíamos. De este modo la IA y el aprendizaje automático tratan de automatizar lo inefable (aquello que no se puede expresar con palabras) y nos permite explicarle a una máquina lo que queremos que haga usando ejemplos en lugar de instrucciones. Esto desbloquea una clase de tareas con las que no podíamos hacer que las computadoras nos ayudaran en el pasado porque no podíamos expresar las instrucciones. Ahora todas estas tareas se vuelven posibles de modo que el aprendizaje automático representa un salto fundamental en el progreso humano.\n",
    "\n",
    "Imaginemos un estudiante en una clase, el cual hace un test y mira las respuestas para ver qué tal lo ha hecho. Después de puntuar su test lo vuelve a hacer y comprueba las respuestas de nuevo para ver si lo ha hecho un poco mejor. Tras miles de iteraciones, la puntuación del estudiante será muy alta. En la vida real, ningún estudiante humano aprendería de esta manera, pero las máquinas así es como lo hacen.\n",
    "\n",
    "Aprender significa adquirir conocimientos o habilidades a través del estudio o la experiencia. Basado en esto, podemos definir el aprendizaje automático como el campo de las ciencias de la computación que proporciona a las máquinas la habilidad de aprender de los datos y mejorar a partir de la experiencia sin la necesidad de ser programado expresamente.\n",
    "\n",
    "Debemos tener cuidado de no confundir el aprendizaje automático con la automatización, ya que esta última suele estar basada en reglas predeterminadas en el código que siempre actúan de la misma manera y no permite aprender de los datos. Lo que sí que es cierto es que puede ayudar a automatizar ciertos procesos.\n",
    "\n",
    "Otro aspecto a tener en cuenta es que el aprendizaje automático carece de poder de razonamiento, por lo que no es bueno a la hora de generalizar el conocimiento. Así, si un modelo es entrenado para resolver una tarea, por ejemplo identificar gatos en imágenes, deberá ser entrenado de nuevo para, por ejemplo, reconocer personas."
   ]
  },
  {
   "cell_type": "markdown",
   "metadata": {},
   "source": [
    "## Componentes del aprendizaje automático\n",
    "\n",
    "Para enseñar a las máquinas necesitamos 3 elementos:\n",
    "\n",
    "1. _**Datos**_. Cuanto más diversos sean los datos mejor serán los resultados. Hay dos formas de recolectar los datos: manual y automática. Los datos recolectados manualmente tienen muchos menos errores pero se tarda más tiempo en obtenerlos, lo que los hace más caros.\n",
    "2. _**Características**_. También conocidas como parámetros, atributos o variables, son los factores en los que el sistema de aprendizaje automático se tiene que fijar. Cuando los datos están almacenados en tablas es sencillo, los atributos son las columnas.\n",
    "3. _**Algoritmos**_. Cada problema puede resolverse de diferentes maneras y el método elegido afecta a la precisión, el rendimiento y el tamaño del modelo final. Pero si los datos son malos ni el mejor algoritmo puede ayudar.\n",
    "\n",
    "<center><img src=\"img/df_02_ml_2.jpg\" width=\"500\"></center>\n",
    "<center><caption><em>Figura 3. Componentes del aprendizaje automático</em></caption></center>\n",
    "<br>\n",
    "\n",
    "La elección del algoritmo depende principalmente de 3 factores:\n",
    "\n",
    "* La calidad de los datos de entrada. Ningún dataset es perfecto, en la vida real están plagados de problemas como ruido, datos que faltan, datos atípicos, ausencia de datos suficientes para entrenar... lo que va a condicionar el algoritmo que podemos usar.\n",
    "* El tipo de salida que se necesita, la cual está directamente relacionado con la clase de preguntas de negocio que necesitamos responder.\n",
    "* Las limitaciones del negocio. Estas vienen en forma de costes, tiempo para obtener un rendimiento (_time-to-market_), consumo de recursos de los dispositivos, infraestructura disponible, nivel de precisión requerido, necesidad de interpretabilidad..."
   ]
  },
  {
   "cell_type": "markdown",
   "metadata": {},
   "source": [
    "# Aprendizaje profundo\n",
    "\n",
    "Por último, el _**aprendizaje profundo**_ _(deep learning)_ no es más que una técnica de aprendizaje automático que hace uso de un tipo especial de algoritmos organizados en capas conocido como _**redes neuronales**_ y, en concreto, aquellas con muchas capas.\n",
    "\n",
    "<center><img src=\"img/df_02_ds_2.jpg\" width=\"500\"></center>\n",
    "<center><caption><em>Figura 4. Inteligencia artificial vs aprendizaje automático</em></caption></center>\n",
    "<br>"
   ]
  },
  {
   "cell_type": "markdown",
   "metadata": {},
   "source": [
    "# Citas curiosas\n",
    "\n",
    "A continuación, recopilo algunas de las citas más famosas relacionadas con la ciencia de datos:\n",
    "\n",
    "> _\"If you torture the data long enough, it will confess.\"_ – Ronald H. Coase\n",
    "\n",
    "> _\"Data is not information, Information is not knowledge, Knowledge is not understanding, Understanding is not wisdom.\"_ – Clifford Stoll\n",
    "\n",
    "> _\"If we have data, let's look at data. If all we have are opinions, let's go with mine.\"_ – James Love Barksdale\n",
    "\n",
    "> _\"You should know a word by the company it keeps\"_ – John Rupert Firth\n",
    "\n",
    "> _\"In God we trust. All others must bring data.\"_ – W. Edwards Deming\n",
    "\n",
    "> _\"We started with open source 'code' contribution. Now we are at a phase where we do open source 'model' contribution.\"_ – Unknown"
   ]
  },
  {
   "cell_type": "markdown",
   "metadata": {},
   "source": [
    "# Fuentes\n",
    "\n",
    "- [_Machine Learning for Everyone_](https://vas3k.com/blog/machine_learning/)\n",
    "- [_Machine Learning - Zeiss_](https://blogs.zeiss.com/digital/the-relation-between-computer-vision-and-machine-learning/machine-learning/)\n",
    "- [_Traditional Programming vs Machine Learning_](https://sravya-tech-usage.medium.com/traditional-programming-vs-machine-learning-e9bbed5e491c)"
   ]
  }
 ],
 "metadata": {
  "kernelspec": {
   "display_name": "ds_env",
   "language": "python",
   "name": "python3"
  },
  "language_info": {
   "codemirror_mode": {
    "name": "ipython",
    "version": 3
   },
   "file_extension": ".py",
   "mimetype": "text/x-python",
   "name": "python",
   "nbconvert_exporter": "python",
   "pygments_lexer": "ipython3",
   "version": "3.10.9"
  },
  "orig_nbformat": 4
 },
 "nbformat": 4,
 "nbformat_minor": 2
}
