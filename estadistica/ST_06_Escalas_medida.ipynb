{
 "cells": [
  {
   "cell_type": "code",
   "execution_count": 2,
   "metadata": {
    "tags": [
     "remove-input"
    ]
   },
   "outputs": [
    {
     "data": {
      "text/html": [
       "\n",
       "<div style=\"display: flex; justify-content: space-between;\">\n",
       "    <div style=\"text-align: center; flex-grow: 1;\">14-11-2023</div>\n",
       "    <div><em>ESTADÍSTICA</em></div>\n",
       "</div>\n",
       "<hr>\n"
      ],
      "text/plain": [
       "<IPython.core.display.HTML object>"
      ]
     },
     "metadata": {},
     "output_type": "display_data"
    }
   ],
   "source": [
    "from datetime import datetime\n",
    "from IPython.display import display, HTML\n",
    "\n",
    "current_date = datetime.now().strftime('%d-%m-%Y')\n",
    "html_content = f\"\"\"\n",
    "<div style=\"display: flex; justify-content: space-between;\">\n",
    "    <div style=\"text-align: center; flex-grow: 1;\">{current_date}</div>\n",
    "    <div><em>ESTADÍSTICA</em></div>\n",
    "</div>\n",
    "<hr>\n",
    "\"\"\"\n",
    "\n",
    "display(HTML(html_content))"
   ]
  },
  {
   "cell_type": "markdown",
   "metadata": {},
   "source": [
    "# Escalas de medida\n",
    "\n",
    "Las escalas nominal, ordinal, de intervalo y de razón son _**escalas o niveles de medida**_ en estadística. Estas escalas son clasificaciones amplias que describen el tipo de información registrada dentro de los valores de las variables.\n",
    "\n",
    "Una cantidad cuyo valor cambia en la población y se puede medir se llama _**variable**_. Así, las variables toman diferentes valores en el conjunto de datos. Por ejemplo, podemos medir la altura, el sexo y el _ranking_ de notas de una clase. Cada una de estas variables utiliza un nivel distinto de medida.\n",
    "\n",
    "Fue Stanley Smith Stevens quien desarrolló estas cuatro escalas de medida en 1946, las cuales los analistas continúan usando hoy en día porque la forma en que registramos los datos afecta a lo que podemos aprender de ellos y los análisis estadísticos que podemos realizar, es decir, el nivel de medida de una variable decide el tipo de prueba estadística a utilizar.\n",
    "\n",
    "Las escalas nominal, ordinal, de intervalo y de razón son los cuatro niveles principales de medida y se enumeran en orden creciente de la información detallada que proporcionan. Así, cada escala es un nivel de medida incremental, es decir, cada escala cumple la función de la escala anterior.\n",
    "\n",
    "<center><img src=\"img/ms_1.png\" width=\"600\"></center>\n",
    "<center><caption><em>Figura 1. Escalas de medida</em></caption></center>\n",
    "<br>\n",
    "\n",
    "La naturaleza matemática de una variable o, en otras palabras, cómo se mide esa variable, se considera su nivel de medida."
   ]
  },
  {
   "cell_type": "markdown",
   "metadata": {},
   "source": [
    "## Escalas nominales\n",
    "\n",
    "Las _**escalas nominales**_ simplemente identifican las categorías en las que pueden caer los valores de la variable _(nominal = nombre)_. Los analistas también se refieren a las variables nominales como _**datos categóricos**_.\n",
    "\n",
    "Representan un número finito de valores o categorías dentro de una característica que no siguen ningún orden respecto unos de otros.\n",
    "\n",
    "Los números asociados con las variables en esta escala no representan ningún valor cuantitativo, sino que son solo valores cualitativos. De esta manera, los valores numéricos aquí son únicamente etiquetas usadas para categorizar o identificar objetos, es decir, se usan para clasificarlos. Los cálculos realizados con estos números serán inútiles ya que no tienen importancia cuantitativa. \n",
    "\n",
    "Además, los números no definen características relacionadas con los objetos, de modo que cada número es asignado a un objeto aleatorio.\n",
    "\n",
    "Esta escala es la más simple de las cuatro escalas de medida de variables. Algunos ejemplos de escalas nominales incluyen el género, el estado civil o el grupo sanguíneo.\n",
    "\n",
    "Las _**variables binarias**_ son un tipo de datos nominales. Estos datos sólo pueden tener dos valores. Los estadísticos también se refieren a los datos binarios como variables indicadoras y datos dicotómicos. Por ejemplo, masculino/femenino, aprobado/suspenso y la presencia/ausencia de un atributo son todos datos binarios.\n",
    "\n",
    "La escala nominal es el nivel más bajo de medición porque solo puede agrupar las observaciones y no puede ordenar los grupos.\n",
    "\n",
    "En cuanto a los cálculos apropiados para las escalas nominales, no podemos calcular la media, la mediana o la desviación estándar de las variables nominales porque solo tenemos información sobre las categorías. La moda es la medida adecuada de tendencia central para las escalas nominales porque identifica la categoría más común.\n",
    "\n",
    "Con datos nominales con frecuencia necesitamos evaluar las frecuencias relativas de las categorías. En consecuencia, los gráficos circulares _(pie chart)_ y de barras son métodos convencionales para visualizar estas variables porque muestran recuentos y frecuencias relativas para cada grupo. Como pruebas estadísticas, podemos usar pruebas de proporción _(proportion tests)_."
   ]
  },
  {
   "cell_type": "markdown",
   "metadata": {},
   "source": [
    "## Escalas ordinales\n",
    "\n",
    "Las _**escalas ordinales**_ también identifican grupos en los datos, pero podemos colocar estos grupos en un orden natural. Si bien el orden es crucial, las diferencias entre los valores pueden no ser consistentes. En otras palabras, podemos clasificar los valores pero no conocemos los grados relativos de diferencia entre ellos. Al igual que la escala ordinal, no representa valores cuantitativos sino solo cualitativos.\n",
    "\n",
    "Algunos ejemplos de escalas ordinales incluyen el nivel educativo (primaria, secundaria, grado, máster, doctorado), el nivel de ingresos (bajo, medio y alto), las tallas de ropa (S, M, L, XL)...\n",
    "\n",
    "Los datos ordinales tienen una combinación de propiedades de las escalas nominales y propiedades cuantitativas. Por un lado, estas variables tienen un número limitado de valores discretos como los datos nominales. Por otro lado, las diferencias entre valores proporcionan información de orden al igual que en las variables cuantitativas.\n",
    "\n",
    "Sin embargo, la diferencia entre valores adyacentes podría no ser consistente. Por ejemplo, primero, segundo y tercero en una carrera deportiva son datos ordinales. Pero la diferencia de tiempo entre el primer y el segundo lugar podría no ser la misma que entre el segundo y el tercer lugar.\n",
    "\n",
    "Las variables ordinales son un paso más que las escalas nominales como nivel de medición. Estas escalas agrupan observaciones, como los datos nominales, pero también permiten clasificar los valores por orden de importancia.\n",
    "\n",
    "Los analistas a menudo representan las escalas ordinales usando números, como una [escala Likert](https://es.wikipedia.org/wiki/Escala_Likert) de 1 a 5 que mide el nivel de satisfacción. En forma numérica, podemos calcular puntuaciones promedio como con las variables cuantitativas. Sin embargo, los números tienen una utilidad limitada porque las diferencias entre los rangos pueden no ser constantes. En consecuencia, muchos estadísticos consideran que la media es una medida inapropiada para datos ordinales.\n",
    "\n",
    "Sin embargo, la mediana es una medida válida de tendencia central para las variables ordinales porque la mediana se refiere al valor de rango medio, perfecto para datos ordenados por rango _(rank-order data)_.\n",
    "\n",
    "Cuando necesitemos medir la dispersión de datos ordinales utilizaremos el rango, el rango intercuartílico o la dispersión entre dos percentiles."
   ]
  },
  {
   "cell_type": "markdown",
   "metadata": {},
   "source": [
    "## Escalas de intervalo\n",
    "\n",
    "Las variables continuas pueden tomar todos los valores numéricos donde la escala se puede separar significativamente en incrementos más pequeños, incluidos valores fraccionarios y decimales. Hay un número infinito de valores entre dos valores cualesquiera, y las diferencias entre dos valores cualesquiera son siempre significativas.\n",
    "\n",
    "Por lo general, las variables continuas se miden en una escala, y algunos ejemplos de datos continuos incluyen la altura, el peso y la temperatura.\n",
    "\n",
    "Los estadísticos dividen los datos continuos en dos tipos que se miden mediante las escalas de intervalo y de razón.\n",
    "\n",
    "Las _**escalas de intervalo**_ registran con frecuencia datos continuos, pero no siempre: las puntuaciones de crédito y las notas del SAT son números enteros. En estas escalas, el orden de los valores y el intervalo o distancia entre dos puntos cualesquiera es significativo, pero no hay un punto de partida predeterminado o un verdadero valor cero.\n",
    "\n",
    "La característica principal de esta escala es la diferencia equidistante entre objetos. Así, la escala de intervalo es una escala numérica donde se conoce el orden de las variables, así como la diferencia entre estas variables.\n",
    "\n",
    "Las unidades están igualmente espaciadas y ordenadas de modo que conocemos la diferencia entre los valores de la variable. No hay un 0 verdadero, es decir, no hay una verdadera ausencia de valor, por lo que operaciones como la multiplicación y la división no son válidas.\n",
    "\n",
    "Un ejemplo sería la temperatura, ya que nunca hay una ausencia de temperatura y 0 no quiere decir que no hay temperatura, sino que es una temperatura en sí misma. Lo mismo ocurre con las medidas de una brújula, donde 0 es un valor con significado en sí mismo que indica una dirección. Otro ejemplo son las horas del día.\n",
    "\n",
    "Por ejemplo, la diferencia de 20 grados entre 10 y 30 grados Celsius es equivalente a la diferencia entre 50 y 70 grados. Sin embargo, estas variables no tienen una medida cero que indique la falta de la característica. Como hemos comentado, cero Celsius representa una temperatura en lugar de una falta de temperatura.\n",
    "\n",
    "Debido a esta falta de un cero verdadero, las relaciones de medición no son válidas para las escalas de intervalos. Treinta grados centígrados no es tres veces la temperatura de diez grados centígrados. Podemos sumar y restar valores en una escala de intervalo, pero no podemos multiplicarlos ni dividirlos.\n",
    "\n",
    "Ejemplos de escalas de intervalo incluyen las temperatura en Celsius y Fahrenheit, las puntuaciones de crédito (300-850), las notas del SAT (200-800) y las fechas en un calendario.\n",
    "\n",
    "Las escalas de intervalo son un paso más alto que los datos ordinales como nivel de medición. Este tipo nos permite ordenar los valores, como los datos ordinales, pero también nos permite evaluar el grado de diferencia entre dos valores cualesquiera.\n",
    "\n",
    "Con las escalas de intervalo podemos calcular la media y la desviación estándar como medidas de tendencia central y variabilidad respectivamente. Sin embargo, la mediana y el rango intercuartílico pueden ser más apropiados para distribuciones asimétricas.\n",
    "\n",
    "El coeficiente de variación no es válido para este tipo de medida porque incorpora una razón."
   ]
  },
  {
   "cell_type": "markdown",
   "metadata": {},
   "source": [
    "## Escalas de razón\n",
    "\n",
    "Las _**escalas de razón**_ _(ratio scales)_ suelen utilizar datos continuos. Para este nivel de medición, los intervalos siguen siendo significativos, es decir, seguimos conociendo la diferencia entra las variables. Además, estas variables tienen medidas cero que representan una falta del atributo. Por ejemplo, cero kilogramos indica falta de peso. En consecuencia, los ratios de medidas son válidos para estas escalas. \n",
    "\n",
    "En ella los puntos de datos están ordenados e igualmente espaciados, es decir, conocemos la diferencia exacta entre los valores). Se puede realizar con ellas operaciones aritméticas (suma, resta, multiplicación y división). Existe un valor 0 real y los valores negativos no tienen sentido.\n",
    "\n",
    "Los ejemplos de escalas de razón incluyen la temperatura en grados Kelvin (con su cero absoluto que no representa temperatura), la altura, el peso, la velocidad y los períodos de tiempo.\n",
    "\n",
    "Las escalas de razón son el nivel superior de medición. Al igual que las escalas de intervalo, nos permiten ordenar las observaciones y conocer la diferencia entre dos valores cualesquiera. Además, nos permiten evaluar proporciones. Así, una altura de 4m es el doble de alta que 2m, un período de 10 minutos es el doble de 5 minutos y 30 kg es tres veces el peso de 10 kg.\n",
    "\n",
    "Las escalas de razón nos permiten calcular las mismas estadísticas que las escalas de intervalo más las razones _(ratios)_. En consecuencia, una medida como el coeficiente de variación es válida para este tipo de medida."
   ]
  },
  {
   "cell_type": "markdown",
   "metadata": {},
   "source": [
    "## Resumen de las escalas de medición\n",
    "\n",
    "Saber si nuestros datos usan el nivel de medición nominal, ordinal, de intervalo o de razón puede ayudarnos a evitar errores de análisis. Consideremos la siguiente tabla que resume las capacidades de los distintos niveles.\n",
    "\n",
    "|                                 Escala                            | Nominal | Ordinal | Intervalo | Ratio |\n",
    "|----------------------------------------------------------------:|:-------:|:-------:|:---------:|:-----:|\n",
    "|                                **Distribuciones de frecuencia** |    Sí   |    Sí   |     Sí    |   Sí  |\n",
    "|                                                        **Moda** |    Sí   |    Sí   |     Sí    |   Sí  |\n",
    "|                                      **Orden valores conocido** |    No   |    Sí   |     Sí    |   Sí  |\n",
    "|                              **Mediana, rangos de percentiles** |    No   |    Sí   |     Sí    |   Sí  |\n",
    "|                     **Suma, resta, media, desviación estándar** |    No   |    No   |     Sí    |   Sí  |\n",
    "|                                              **Cero verdadero** |    No   |    No   |     No    |   Sí  |\n",
    "| **Multiplicación, división, razones, coeficiente de variación** |    No   |    No   |     No    |   Sí  |\n",
    "\n",
    "Con frecuencia, los datos que necesitamos recopilar dictan la elección de la escala de medición. Por ejemplo, si estamos registrando el género, el color de ojos y el estado civil, definitivamente son datos nominales. Sin embargo, si estamos registrando valores de tiempo y temperatura, esos son escalas de intervalo o de proporción. Si estamos clasificando equipos deportivos, será un dato ordinal.\n",
    "\n",
    "Ocasionalmente, deberemos decidir qué escala de medición usar. Por ejemplo, es posible que deseemos comparar grupos de ingresos ordinarios (bajo, medio, alto), pero también podemos medir los ingresos usando valores en una cierta moneda, que es una escala de proporción.\n",
    "\n",
    "En estas situaciones, deseamos registrar los datos usando el nivel de medición más alto siempre que sea posible. Si lo deseamos, siempre podemos recodificar los niveles más altos a niveles más bajos, como convertir escalas de razón a datos ordinales y nominales. Sin embargo, si solo registramos el nivel de medición nominal u ordinal, en ese caso no podremos volver a codificarlo posteriormente a un nivel superior porque no tendremos los detalles necesarios.\n",
    "\n",
    "Por ejemplo, podemos recodificar los ingresos en moneda para grupos de ingresos bajos, medios y altos. Sin embargo, si solo tenemos los grupos de ingresos de los sujetos, no podemos recuperar sus ingresos en efectivo.\n",
    "\n",
    "El color es una variable interesante. Si estamos registrando el color de los ojos, el cabello y la ropa, siempre será una variable nominal. Sin embargo, en física, el color es más apropiadamente una variable de escala de proporción de longitud de onda.\n",
    "\n",
    "Ocasionalmente, podemos convertir un intervalo en una escala de razón. Por ejemplo, podemos convertir la temperatura en grados Celsius (intervalo) a Kelvin (relación).\n",
    "\n",
    "Muchas veces la diferencia entre la escala de proporción y de intervalo no será aparente o importante a la hora de aplicar los algoritmos, pero como hemos comentado, sí que puede ser importante cuando apliquemos ciertas funciones estadísticas."
   ]
  },
  {
   "cell_type": "markdown",
   "metadata": {},
   "source": [
    "# Fuentes\n",
    "\n",
    "- [_Nominal, Ordinal, Interval, and Ratio Scales_ - Statistics By Jim](https://statisticsbyjim.com/basics/nominal-ordinal-interval-ratio-scales/)"
   ]
  }
 ],
 "metadata": {
  "kernelspec": {
   "display_name": "torch_env",
   "language": "python",
   "name": "python3"
  },
  "language_info": {
   "codemirror_mode": {
    "name": "ipython",
    "version": 3
   },
   "file_extension": ".py",
   "mimetype": "text/x-python",
   "name": "python",
   "nbconvert_exporter": "python",
   "pygments_lexer": "ipython3",
   "version": "3.9.16"
  }
 },
 "nbformat": 4,
 "nbformat_minor": 2
}
