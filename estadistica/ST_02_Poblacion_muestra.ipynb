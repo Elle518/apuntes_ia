{
 "cells": [
  {
   "cell_type": "code",
   "execution_count": 1,
   "metadata": {
    "tags": [
     "remove-input"
    ]
   },
   "outputs": [
    {
     "data": {
      "text/html": [
       "\n",
       "<div style=\"display: flex; justify-content: space-between;\">\n",
       "    <div style=\"text-align: center; flex-grow: 1;\">14-11-2023</div>\n",
       "    <div><em>ESTADÍSTICA</em></div>\n",
       "</div>\n",
       "<hr>\n"
      ],
      "text/plain": [
       "<IPython.core.display.HTML object>"
      ]
     },
     "metadata": {},
     "output_type": "display_data"
    }
   ],
   "source": [
    "from datetime import datetime\n",
    "from IPython.display import display, HTML\n",
    "\n",
    "current_date = datetime.now().strftime('%d-%m-%Y')\n",
    "html_content = f\"\"\"\n",
    "<div style=\"display: flex; justify-content: space-between;\">\n",
    "    <div style=\"text-align: center; flex-grow: 1;\">{current_date}</div>\n",
    "    <div><em>ESTADÍSTICA</em></div>\n",
    "</div>\n",
    "<hr>\n",
    "\"\"\"\n",
    "\n",
    "display(HTML(html_content))"
   ]
  },
  {
   "cell_type": "code",
   "execution_count": 2,
   "metadata": {},
   "outputs": [],
   "source": [
    "import pandas as pd\n",
    "import seaborn as sns"
   ]
  },
  {
   "cell_type": "markdown",
   "metadata": {},
   "source": [
    "# Poblaciones y muestras\n",
    "\n",
    "Las _**estadísticas inferenciales**_ nos permiten sacar conclusiones sobre las poblaciones mediante el uso de muestras más pequeñas. En consecuencia, las estadísticas inferenciales brindan enormes beneficios porque, por lo general, no se puede medir una población completa.\n",
    "\n",
    "<center><img src=\"img/maths_sample.png\" width=\"500\"></center>\n",
    "<center><caption><em>Figura 1. Estadística inferencial</em></caption></center>\n",
    "<br>\n",
    "\n",
    "Sin embargo, para obtener estos beneficios, debemos comprender la relación entre poblaciones, subpoblaciones, parámetros de población, muestras y estadísticas de las muestras.\n",
    "\n",
    "Una _**muestra**_ _(sample)_ es un subconjunto de datos de un conjunto de datos más grande; los estadísticos llaman a este conjunto de datos más grande la _**población**_ _(population)_. La población es el conjunto de individuos que se quiere estudiar, es decir, la totalidad de los individuos, mientras que la muestra es una parte cualquiera de la población.\n",
    "\n",
    "Así, una muestra es un subconjunto de observaciones de la población que idealmente es una representación real de las características o atributos de esa población. Los resultados que obtendremos de estudiar la muestra serán más fiables cuanto más representativa sea la muestra, es decir, cuanto más reproduzca, a una escala más reducida, la estructura y composición de la población. Existen diferentes _**técnicas de muestreo**_ o alternativas a la hora de seleccionar muestras a partir de poblaciones.\n",
    "\n",
    "Los estadísticos se refieren a los diversos procesos de extracción de subconjuntos de poblaciones como métodos de muestreo. Idealmente, estas técnicas producen muestras representativas con características que se parecen al conjunto completo de sujetos. Las muestras representativas son mejores para los investigadores que desean generalizar sus resultados a la población.\n",
    "\n",
    "Cada uno de los diversos métodos tiene un conjunto de pros y contras. Generalmente, los procedimientos más costosos y complejos son mejores a la hora de obtener muestras representativas. Los enfoques menos costosos tienden a generar sesgos, lo que los hace menos generalizables.\n",
    "\n",
    "En resumen, generalmente existe una compensación entre representatividad y costo. Los métodos de muestreo probabilístico son mejores para la representatividad e incluyen los siguientes tipos: muestreo aleatorio simple, muestreo sistemático y muestreo por conglomerados.\n",
    "\n",
    "Los procedimientos no probabilísticos suelen ser más convenientes y económicos, pero tienden a producir resultados sesgados y no representativos, lo que limita la generalización. Estos métodos incluyen los siguientes tipos: muestreo por conveniencia, muestreo por cuotas y muestreo de bola de nieve.\n",
    "\n",
    "Una población en estadística no es lo mismo que en biología: es un conjunto de datos grande y definido (pero a veces teórico o imaginario) formado por todos los elementos cuyas características se están estudiando. Las poblaciones pueden incluir individuos, objetos, eventos, etc.\n",
    "\n",
    "En estadística, hay dos tipos generales de poblaciones:\n",
    "\n",
    "* Las poblaciones pueden ser el conjunto completo de todos los elementos similares que existen. Por ejemplo, la población de un país incluye a todas las personas que se encuentran actualmente en ese país. Es una lista finita pero potencialmente grande de miembros. \n",
    "* Una población también puede ser una construcción teórica que es potencialmente infinita en tamaño. Por ejemplo, los analistas de mejora de la calidad a menudo consideran que toda la producción actual y futura de una línea de fabricación es parte de una población.\n",
    "\n",
    "Las poblaciones comparten un conjunto de atributos que nosotros definimos. Por ejemplo, las siguientes son poblaciones: las estrellas en la galaxia de la Vía Láctea, las piezas de una línea de producción o los ciudadanos de España.\n",
    "\n",
    "Dado que experimentar con una población completa es imposible o simplemente demasiado costoso, los investigadores o analistas usan muestras en lugar de la población completa en sus experimentos o ensayos. Para asegurarse de que los resultados experimentales sean fiables y válidos para toda la población, la muestra debe ser una representación real de la población, es decir, la muestra debe ser imparcial y no estar sesgada.\n",
    "\n",
    "Antes de comenzar un estudio, debemos definir cuidadosamente la población que estamos estudiando. Estas poblaciones se pueden definir de forma restringida para satisfacer las necesidades del análisis. Por ejemplo, mujeres suecas adultas que por lo demás están sanas pero tienen osteoporosis.\n",
    "\n",
    "Las _**subpoblaciones**_ _(subpopulation)_ comparten atributos adicionales. Por ejemplo, la población de los Estados Unidos contiene las subpoblaciones de hombres y mujeres. También podemos subdividirlo de otras formas, como región, edad, nivel socioeconómico, etc. Diferentes estudios que involucran a la misma población pueden dividirla en diferentes subpoblaciones según lo que tenga sentido para los datos y los análisis.\n",
    "\n",
    "Comprender las subpoblaciones en el estudio nos ayuda a comprender el tema más a fondo. También puede ayudarnos a producir modelos estadísticos que se ajusten mejor a los datos. Las subpoblaciones son particularmente importantes cuando tienen características que son sistemáticamente diferentes a la población general. Cuando analizamos los datos, debemos ser conscientes de estas divisiones más profundas. De hecho, podemos tratar las subpoblaciones relevantes como factores adicionales en análisis posteriores.\n",
    "\n",
    "Por ejemplo, si estamos analizando la estatura promedio de los adultos en los Estados Unidos, mejoraremos los resultados al incluir subpoblaciones masculinas y femeninas porque sus estaturas son sistemáticamente diferentes.\n",
    "\n",
    "Supongamos que estamos estudiando la altura de los ciudadanos estadounidenses y supongamos además que no sabemos mucho sobre el tema. En consecuencia, recolectamos una muestra aleatoria, medimos las alturas en centímetros y calculamos la media y la desviación estándar de la muestra.\n",
    "\n",
    "Obtenemos los siguientes resultados:"
   ]
  },
  {
   "cell_type": "code",
   "execution_count": 3,
   "metadata": {},
   "outputs": [
    {
     "data": {
      "text/html": [
       "<div>\n",
       "<style scoped>\n",
       "    .dataframe tbody tr th:only-of-type {\n",
       "        vertical-align: middle;\n",
       "    }\n",
       "\n",
       "    .dataframe tbody tr th {\n",
       "        vertical-align: top;\n",
       "    }\n",
       "\n",
       "    .dataframe thead th {\n",
       "        text-align: right;\n",
       "    }\n",
       "</style>\n",
       "<table border=\"1\" class=\"dataframe\">\n",
       "  <thead>\n",
       "    <tr style=\"text-align: right;\">\n",
       "      <th></th>\n",
       "      <th>Heights</th>\n",
       "      <th>Gender</th>\n",
       "    </tr>\n",
       "  </thead>\n",
       "  <tbody>\n",
       "    <tr>\n",
       "      <th>0</th>\n",
       "      <td>160.377337</td>\n",
       "      <td>Male</td>\n",
       "    </tr>\n",
       "    <tr>\n",
       "      <th>1</th>\n",
       "      <td>177.637818</td>\n",
       "      <td>Male</td>\n",
       "    </tr>\n",
       "    <tr>\n",
       "      <th>2</th>\n",
       "      <td>166.258270</td>\n",
       "      <td>Male</td>\n",
       "    </tr>\n",
       "    <tr>\n",
       "      <th>3</th>\n",
       "      <td>182.467287</td>\n",
       "      <td>Male</td>\n",
       "    </tr>\n",
       "    <tr>\n",
       "      <th>4</th>\n",
       "      <td>182.368534</td>\n",
       "      <td>Male</td>\n",
       "    </tr>\n",
       "  </tbody>\n",
       "</table>\n",
       "</div>"
      ],
      "text/plain": [
       "      Heights Gender\n",
       "0  160.377337   Male\n",
       "1  177.637818   Male\n",
       "2  166.258270   Male\n",
       "3  182.467287   Male\n",
       "4  182.368534   Male"
      ]
     },
     "execution_count": 3,
     "metadata": {},
     "output_type": "execute_result"
    }
   ],
   "source": [
    "data = pd.read_csv('data/heights_by_gender.csv')\n",
    "data.head()"
   ]
  },
  {
   "cell_type": "code",
   "execution_count": 4,
   "metadata": {},
   "outputs": [
    {
     "data": {
      "text/plain": [
       "<Axes: xlabel='Heights', ylabel='Count'>"
      ]
     },
     "execution_count": 4,
     "metadata": {},
     "output_type": "execute_result"
    },
    {
     "data": {
      "image/png": "[encoded data removed]",
      "text/plain": [
       "<Figure size 640x480 with 1 Axes>"
      ]
     },
     "metadata": {},
     "output_type": "display_data"
    }
   ],
   "source": [
    "sns.histplot(data['Heights'])"
   ]
  },
  {
   "cell_type": "code",
   "execution_count": 5,
   "metadata": {},
   "outputs": [
    {
     "data": {
      "text/plain": [
       "count    1000.000000\n",
       "mean      168.306355\n",
       "std         9.812907\n",
       "min       143.501854\n",
       "25%       160.946318\n",
       "50%       168.019906\n",
       "75%       175.859809\n",
       "max       197.707840\n",
       "Name: Heights, dtype: float64"
      ]
     },
     "execution_count": 5,
     "metadata": {},
     "output_type": "execute_result"
    }
   ],
   "source": [
    "data['Heights'].describe()"
   ]
  },
  {
   "cell_type": "markdown",
   "metadata": {},
   "source": [
    "Debido a que hemos reunido una muestra aleatoria, podemos suponer que estas estadísticas de muestra son estimaciones no sesgadas de los parámetros de la población.\n",
    "\n",
    "Ahora, supongamos que aprendemos más sobre el área de estudio e incluimos hombres y mujeres como subpoblaciones. Obtenemos los siguientes resultados:"
   ]
  },
  {
   "cell_type": "code",
   "execution_count": 6,
   "metadata": {},
   "outputs": [
    {
     "data": {
      "text/plain": [
       "<Axes: xlabel='Heights', ylabel='Count'>"
      ]
     },
     "execution_count": 6,
     "metadata": {},
     "output_type": "execute_result"
    },
    {
     "data": {
      "image/png": "[encoded data removed]",
      "text/plain": [
       "<Figure size 640x480 with 1 Axes>"
      ]
     },
     "metadata": {},
     "output_type": "display_data"
    }
   ],
   "source": [
    "sns.histplot(data=data, x='Heights', hue='Gender')"
   ]
  },
  {
   "cell_type": "code",
   "execution_count": 7,
   "metadata": {},
   "outputs": [
    {
     "data": {
      "text/plain": [
       "count    500.000000\n",
       "mean     175.038659\n",
       "std        7.354337\n",
       "min      155.197703\n",
       "25%      170.229677\n",
       "50%      175.336793\n",
       "75%      180.106521\n",
       "max      197.707840\n",
       "Name: Heights, dtype: float64"
      ]
     },
     "execution_count": 7,
     "metadata": {},
     "output_type": "execute_result"
    }
   ],
   "source": [
    "data_m = data[data['Gender'] == 'Male']\n",
    "data_m['Heights'].describe()"
   ]
  },
  {
   "cell_type": "code",
   "execution_count": 8,
   "metadata": {},
   "outputs": [
    {
     "data": {
      "text/plain": [
       "count    500.000000\n",
       "mean     161.574051\n",
       "std        6.918344\n",
       "min      143.501854\n",
       "25%      156.654409\n",
       "50%      161.346158\n",
       "75%      166.593762\n",
       "max      183.851727\n",
       "Name: Heights, dtype: float64"
      ]
     },
     "execution_count": 8,
     "metadata": {},
     "output_type": "execute_result"
    }
   ],
   "source": [
    "data_f = data[data['Gender'] == 'Female']\n",
    "data_f['Heights'].describe()"
   ]
  },
  {
   "cell_type": "markdown",
   "metadata": {},
   "source": [
    "Ahora, la única distribución amplia ha sido reemplazada por dos distribuciones más reducidas. La distribución para cada género tiene una desviación estándar más pequeña que la distribución única para todos los adultos, lo que es consistente con la distribución más limitada alrededor de las medias tanto para hombres como para mujeres en el gráfico. Estos resultados muestran cómo la media proporciona estimaciones más precisas cuando evaluamos las alturas por género. De hecho, la media de toda la población no es igual a la media de ninguna de las subpoblaciones, lo que es engañoso.\n",
    "\n",
    "Durante este proceso, aprendemos que el género es una subpoblación crucial que se relaciona con la altura y aumenta nuestra comprensión del tema. En futuros estudios sobre la altura, podemos incluir el sexo como variable predictora.\n",
    "\n",
    "Este ejemplo utiliza una variable de agrupación categórica (`Gender`) y una variable de salida continua (`Heights`). Cuando deseemos comparar distribuciones de valores continuos entre grupos como en este ejemplo, debemos considerar usar diagramas de caja. Estos gráficos se vuelven más útiles a medida que aumenta el número de grupos.\n",
    "\n",
    "Este ejemplo es intencionalmente fácil de entender, pero imaginemos un estudio sobre un tema menos obvio. Este proceso nos ayudará a obtener información nueva y producir mejores modelos estadísticos.\n",
    "\n",
    "Un _**parámetro**_ _(parameter)_ es un valor que describe una característica de toda una población, como la media de la población. Debido a que casi nunca se puede medir una población completa, por lo general no se conoce el valor real de un parámetro. De hecho, los valores de los parámetros son casi siempre desconocidos. Si bien no conocemos el valor, definitivamente existe.\n",
    "\n",
    "Por ejemplo, la estatura promedio de las mujeres adultas en los Estados Unidos es un parámetro que tiene un valor exacto, simplemente no sabemos cuál es.\n",
    "\n",
    "La media poblacional y la desviación estándar son dos parámetros comunes. En estadística, los símbolos griegos suelen representar parámetros de población, como $\\mu$ (mu) para la media y $\\sigma$ (sigma) para la desviación estándar.\n",
    "\n",
    "Una _**estadística**_ _(statistic)_ es una característica de una muestra. Si recolectamos una muestra y calculamos la media y la desviación estándar, estas son estadísticas de la muestra. Las estadísticas inferenciales nos permiten usar estadísticas de muestra para sacar conclusiones sobre una población. Sin embargo, para sacar conclusiones válidas, debemos usar técnicas de muestreo particulares. Estas técnicas ayudan a garantizar que las muestras produzcan estimaciones imparciales. Las estimaciones sesgadas son sistemáticamente demasiado altas o demasiado bajas. Deseamos estimaciones imparciales porque son correctas en promedio.\n",
    "\n",
    "En las estadísticas inferenciales, usamos estadísticas muestrales para estimar los parámetros de la población, la cual se supone que sigue una distribución subyacente pero desconocida. Todo lo que está disponible son los datos de la muestra y su distribución empírica. Por ejemplo, si recolectamos una muestra aleatoria de mujeres adultas en los Estados Unidos y medimos sus estaturas, podemos calcular la media de la muestra y usarla como una estimación no sesgada de la media de la población. También podemos realizar pruebas de hipótesis en la estimación de la muestra y crear intervalos de confianza para construir un rango en el que probablemente se encuentre el valor real de la población.\n",
    "\n",
    "La ley de los grandes números establece que a medida que crece el tamaño de la muestra, las estadísticas de la muestra convergerán en los parámetros de la población. Además, el error estándar de la media describe matemáticamente cómo muestras más grandes producen estimaciones más precisas.\n",
    "\n",
    "Usando nuestro conocimiento de poblaciones, subpoblaciones, parámetros, muestreo y estadísticas de muestra, podemos sacar conclusiones valiosas sobre poblaciones grandes usando muestras pequeñas.\n",
    "\n",
    "Cuando tomemos medidas, debemos asegurarnos de que nuestros instrumentos de medición y las puntuaciones de las pruebas sean válidos (validez)."
   ]
  },
  {
   "cell_type": "markdown",
   "metadata": {},
   "source": [
    "## Parámetros vs estadísticas\n",
    "\n",
    "Como hemos comentado, los parámetros son números que describen las propiedades de poblaciones enteras, mientras que las estadísticas son números que describen las propiedades de las muestras.\n",
    "\n",
    "Por ejemplo, el ingreso promedio de los Estados Unidos es un parámetro de población. Por el contrario, el ingreso promedio para una muestra extraída de los EE.UU. es una estadística muestral. Ambos valores representan el ingreso medio, pero uno es un parámetro frente a una estadística.\n",
    "\n",
    "Una población es el grupo completo de personas, objetos, animales, transacciones, etc., que estamos estudiando. Una muestra es una porción de la población.\n",
    "\n",
    "Los parámetros y las estadísticas usan números para resumir las propiedades de una población o muestra. Existe una gama de posibles atributos que podemos evaluar, lo que da lugar a varios tipos de parámetros y estadísticas.\n",
    "\n",
    "Cuando medimos una característica utilizando una escala continua, podemos calcular varios valores de resumen para estadísticas y parámetros, como medias, medianas, desviaciones estándar y correlaciones.\n",
    "\n",
    "Cuando la característica es categórica, el parámetro o estadística a menudo será una proporción, como la proporción de personas que están de acuerdo con una ley en particular.\n",
    "\n",
    "Si bien los parámetros y las estadísticas tienen los mismos tipos de valores de resumen, los estadísticos los denotan de manera diferente. Por lo general, usamos letras griegas y latinas mayúsculas para indicar parámetros y letras latinas minúsculas para representar estadísticas.\n",
    "\n",
    "|      Valor de resumen     | Parámetro | Estadística |\n",
    "|--------------------------:|:---------:|:-----------:|\n",
    "| **Media**                 | $\\mu$     | $\\bar{x}$   |\n",
    "| **Desviación estándar**   | $\\sigma$  | s           |\n",
    "| **Correlación**           | $\\rho$    | r           |\n",
    "| **Proporción**            | P         | $\\hat{p}$   |\n",
    "\n",
    "\n",
    "En los ejemplos a continuación, observamos cómo el mismo sujeto y valor de resumen puede ser un parámetro o una estadística. La diferencia depende de si el valor resume una población o una muestra.\n",
    "\n",
    "| Parámetro                                                                         | Estadística                                                                              |\n",
    "|-----------------------------------------------------------------------------------|------------------------------------------------------------------------------------------|\n",
    "| Peso medio de todos los pastores alemanes.                                         | Peso medio de una muestra aleatoria de 200 pastores alemanes.                             |\n",
    "| Ingreso medio de un condado.                                                       | Ingreso medio de una muestra aleatoria de 50 de ese condado.                              |\n",
    "| Desviación estándar de todos los tiempos de transacción en un banco en particular. | Desviación estándar de una muestra aleatoria de 500 tiempos de transacción en ese banco. |\n",
    "| Proporción de todas las personas que prefieren Coca-Cola a Pepsi.                  | Proporción de una muestra aleatoria de 100 personas que prefieren Coca-Cola a Pepsi.      |\n",
    "\n",
    "Si estamos escuchando las noticias, leyendo un informe o realizando un examen de estadística, ¿cómo sabemos si un valor de resumen es un parámetro o una estadística?\n",
    "\n",
    "Los estudios del mundo real casi siempre funcionan con estadísticas porque las poblaciones tienden a ser demasiado grandes para medirlas por completo. Recordemos que para encontrar el valor exacto de un parámetro debemos poder medir la población completa.\n",
    "\n",
    "Sin embargo, los investigadores definen las poblaciones para sus estudios y pueden especificar una muy definida. Por ejemplo, un investigador podría definir la población como un vecindario específico, senadores estadounidenses ($n=100$) o un equipo deportivo en particular. En estos casos es totalmente posible encuestar a la totalidad de esas poblaciones.\n",
    "\n",
    "El truco consiste en determinar si el valor de resumen se aplica a toda una población o a una muestra de una población. Tendremos en consideración los siguientes puntos:\n",
    "\n",
    "* Una descripción que especifica el uso de una muestra indica que el valor de resumen es una estadística.\n",
    "* Si la población es muy grande o imposible de medir por completo, el valor de resumen es una estadística.\n",
    "* Sin embargo, si los investigadores definen a la población como un grupo relativamente pequeño que es razonablemente accesible, los investigadores podrían medir potencialmente a todo el grupo. En este caso el valor de resumen puede ser un parámetro.\n",
    "\n",
    "Los investigadores suelen estar más interesados en comprender los parámetros de la población. Después de todo, comprender las propiedades de una muestra relativamente pequeña no es valioso por sí mismo. Por ejemplo, a los científicos no les importa el efecto medio de un nuevo medicamento en unas pocas personas, que es una estadística de muestra. En cambio, quieren comprender su efecto medio en toda la población, un parámetro.\n",
    "\n",
    "Desafortunadamente, medir una población completa para calcular exactamente su parámetro suele ser imposible porque son demasiado grandes. Así, no nos queda más remedio que usar muestras y sus estadísticas. Afortunadamente, con las estadísticas inferenciales, los analistas pueden usar estadísticas de muestra para estimar los parámetros de la población, lo que ayuda al progreso de la ciencia.\n",
    "\n",
    "El uso de una estadística de muestra para estimar un parámetro de población es un proceso que comienza con el uso de un método de muestreo que tiende a producir muestras representativas, es decir, una muestra con atributos similares a los de la población. Los científicos utilizan con frecuencia el muestreo aleatorio. Luego, los analistas pueden usar varios análisis estadísticos que toman en cuenta el error de muestreo para estimar el parámetro de la población.\n",
    "\n",
    "Las estadísticas muestrales estiman el valor del parámetro de la población, pero la estimación nunca es igual al parámetro exactamente. En consecuencia, siempre hay un margen de error en torno a las estimaciones de la muestra.\n",
    "\n",
    "El error de muestreo es la diferencia entre el valor correcto de la población y la estimación de la muestra. Desafortunadamente, los analistas nunca saben la cantidad del error de muestreo de forma exacta porque no conocen el valor del parámetro, pero los métodos estadísticos pueden estimarlo. Puede ser difícil de asimilar, pero las estadísticas de muestra siempre son incorrectas (hasta cierto punto).\n",
    "\n",
    "Los intervalos de confianza y los márgenes de error son dos métodos para estimar el error de muestreo."
   ]
  },
  {
   "cell_type": "markdown",
   "metadata": {},
   "source": [
    "# Fuentes\n",
    "\n",
    "- [_Population vs Sample: Uses and Examples_ - Statistics By Jim](https://statisticsbyjim.com/basics/population-vs-sample/)\n",
    "- [_Parameter vs Statistic: Examples & Differences_ - Statistics By Jim](https://statisticsbyjim.com/basics/parameter-vs-statistic/)\n",
    "- [_Populations, Parameters, and Samples in Inferential Statistics_ - Statistics By Jim](https://statisticsbyjim.com/basics/populations-parameters-samples-inferential-statistics/)"
   ]
  }
 ],
 "metadata": {
  "kernelspec": {
   "display_name": "torch_env",
   "language": "python",
   "name": "python3"
  },
  "language_info": {
   "codemirror_mode": {
    "name": "ipython",
    "version": 3
   },
   "file_extension": ".py",
   "mimetype": "text/x-python",
   "name": "python",
   "nbconvert_exporter": "python",
   "pygments_lexer": "ipython3",
   "version": "3.9.16"
  }
 },
 "nbformat": 4,
 "nbformat_minor": 2
}
